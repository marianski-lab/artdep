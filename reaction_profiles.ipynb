{
 "cells": [
  {
   "cell_type": "code",
   "execution_count": 13,
   "metadata": {},
   "outputs": [],
   "source": [
    "import numpy as np\n",
    "import MM_Util as mm\n",
    "import os"
   ]
  },
  {
   "cell_type": "code",
   "execution_count": 14,
   "metadata": {},
   "outputs": [
    {
     "name": "stdout",
     "output_type": "stream",
     "text": [
      "ts1\n",
      "ts2\n",
      "product\n",
      "reactant\n",
      "int\n",
      "MeNH2\n",
      "methylacetamide\n",
      "benchmarks/sample_data/tfp-cf3\n"
     ]
    }
   ],
   "source": [
    "wdir = 'benchmarks/sample_data/tfp-cf3'\n",
    "\n",
    "dirs = os.listdir(wdir)\n",
    "mol_list = []\n",
    "\n",
    "for d in dirs:\n",
    "    try:\n",
    "        molecule = mm.Mol(f\"{wdir}/{d}\")\n",
    "        molecule.gaussian()\n",
    "\n",
    "        mol_list.append(molecule)\n",
    "\n",
    "        print (d)\n",
    "\n",
    "    except:\n",
    "        print (f\"Error in {wdir}/{d} !\")\n",
    "print(wdir)"
   ]
  },
  {
   "cell_type": "code",
   "execution_count": 15,
   "metadata": {},
   "outputs": [
    {
     "data": {
      "text/plain": [
       "-1289.17790662"
      ]
     },
     "execution_count": 15,
     "metadata": {},
     "output_type": "execute_result"
    }
   ],
   "source": [
    "mol_list[0].E"
   ]
  },
  {
   "cell_type": "code",
   "execution_count": 16,
   "metadata": {},
   "outputs": [
    {
     "name": "stdout",
     "output_type": "stream",
     "text": [
      "-1289.17790662\n",
      "-1289.20304584\n",
      "-1040.84848055\n",
      "-1193.39896905\n",
      "-1289.18111469\n",
      "-95.7824100769\n",
      "-248.34989152\n"
     ]
    }
   ],
   "source": [
    "for mol in mol_list:\n",
    "    print(mol.E)\n"
   ]
  },
  {
   "cell_type": "code",
   "execution_count": 17,
   "metadata": {},
   "outputs": [],
   "source": [
    "dirs = os.listdir(wdir)\n",
    "mol_list = []\n",
    "\n",
    "for d in dirs:\n",
    "    molecule = mm.Mol(f\"{wdir}/{d}\")\n",
    "    molecule.gaussian()\n",
    "    mol_list.append(molecule)\n",
    "\n",
    "reacts = mm.Reaction.combiner([mol_list[3], mol_list[5]])\n",
    "ts1 = mol_list[0]\n",
    "ts2 = mol_list[1]\n",
    "int = mol_list[4]\n",
    "prods = mm.Reaction.combiner([mol_list[2], mol_list[6]])\n",
    "\n",
    "profile = [reacts, ts1, int, ts2, prods]\n",
    "labels = ['R', 'TS1', 'Int', 'TS2', 'P']\n",
    "\n",
    "rxn = mm.Reaction(profile, labels)"
   ]
  },
  {
   "cell_type": "code",
   "execution_count": 19,
   "metadata": {},
   "outputs": [
    {
     "ename": "AttributeError",
     "evalue": "'Mol' object has no attribute 'F'",
     "output_type": "error",
     "traceback": [
      "\u001b[0;31m---------------------------------------------------------------------------\u001b[0m",
      "\u001b[0;31mAttributeError\u001b[0m                            Traceback (most recent call last)",
      "Cell \u001b[0;32mIn[19], line 1\u001b[0m\n\u001b[0;32m----> 1\u001b[0m mm\u001b[38;5;241m.\u001b[39mPlot()\u001b[38;5;241m.\u001b[39mreaction_profile(rxn, \u001b[38;5;28mtype\u001b[39m \u001b[38;5;241m=\u001b[39m \u001b[38;5;124m'\u001b[39m\u001b[38;5;124mdelta F\u001b[39m\u001b[38;5;124m'\u001b[39m)\n",
      "File \u001b[0;32m~/Code/style_guide/artdep/MM_Util/plot.py:80\u001b[0m, in \u001b[0;36mPlot.reaction_profile\u001b[0;34m(self, Reaction, type, linewidth, scale, annotate, color)\u001b[0m\n\u001b[1;32m     78\u001b[0m     energies\u001b[38;5;241m.\u001b[39mappend(energy)\n\u001b[1;32m     79\u001b[0m \u001b[38;5;28;01melif\u001b[39;00m \u001b[38;5;28mtype\u001b[39m\u001b[38;5;241m==\u001b[39m\u001b[38;5;124m'\u001b[39m\u001b[38;5;124mdelta F\u001b[39m\u001b[38;5;124m'\u001b[39m:\n\u001b[0;32m---> 80\u001b[0m     energy \u001b[38;5;241m=\u001b[39m mol\u001b[38;5;241m.\u001b[39mF\n\u001b[1;32m     81\u001b[0m \u001b[38;5;28;01melif\u001b[39;00m \u001b[38;5;28mtype\u001b[39m \u001b[38;5;241m==\u001b[39m \u001b[38;5;124m'\u001b[39m\u001b[38;5;124mdelta H\u001b[39m\u001b[38;5;124m'\u001b[39m:\n\u001b[1;32m     82\u001b[0m     energy \u001b[38;5;241m=\u001b[39m mol\u001b[38;5;241m.\u001b[39mH\n",
      "\u001b[0;31mAttributeError\u001b[0m: 'Mol' object has no attribute 'F'"
     ]
    }
   ],
   "source": [
    "mm.Plot().reaction_profile(rxn, type = 'delta F')"
   ]
  },
  {
   "cell_type": "code",
   "execution_count": null,
   "metadata": {},
   "outputs": [],
   "source": []
  }
 ],
 "metadata": {
  "kernelspec": {
   "display_name": "base",
   "language": "python",
   "name": "python3"
  },
  "language_info": {
   "codemirror_mode": {
    "name": "ipython",
    "version": 3
   },
   "file_extension": ".py",
   "mimetype": "text/x-python",
   "name": "python",
   "nbconvert_exporter": "python",
   "pygments_lexer": "ipython3",
   "version": "3.12.2"
  }
 },
 "nbformat": 4,
 "nbformat_minor": 2
}
